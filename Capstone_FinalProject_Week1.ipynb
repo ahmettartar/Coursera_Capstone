{
    "cells": [
        {
            "metadata": {
                "collapsed": true
            },
            "cell_type": "markdown",
            "source": "## Battle of the Neighborhoods:\n## A City Analysis Report: A comparison of Brooklyn and Queens, NY\n\nDr.Ahmet TARTAR\n"
        },
        {
            "metadata": {},
            "cell_type": "markdown",
            "source": "## Introduction"
        },
        {
            "metadata": {},
            "cell_type": "markdown",
            "source": "New York is one of the largest metropolitan cities in the world. New York City (NYC), also known as the City of New York or simply New York (NY), is the most populous city in the United States. With an estimated 2018 population of 8,398,748 distributed over a land area of about 302.6 square miles (784 km2), New York is also the most densely populated major city in the United States [1]. It is one of the cities where people from all over the world want to visit or live.\n\nNew York City encompasses five county-level administrative divisions called boroughs: The Bronx, Brooklyn, Manhattan, Queens, and Staten Island. Each borough is coterminous with a respective county of New York State. The boroughs of Queens and the Bronx are concurrent with the counties of the same name, while the boroughs of Manhattan, Brooklyn, and Staten Island correspond to New York, Kings, and Richmond counties [2].\n\n**Brooklyn:** Brooklyn (Kings County), on the western tip of Long Island, is the city's most populous borough. Brooklyn is known for its cultural, social, and ethnic diversity, an independent art scene, distinct neighborhoods, and a distinctive architectural heritage. Downtown Brooklyn is the largest central core neighborhood in the outer boroughs [3]. \n\n \n\n\n**Queens (Queens County)**, on Long Island north and east of Brooklyn, is geographically the largest borough, the most ethnically diverse county in the United States, and the most ethnically diverse urban area in the world [4].\n\n \n\n\n\n\n## Problem and Purpose\n\nIn the light of these information, it is very important to have information about these boroughs for those who want to move from another country of the world, or to relocate to a new city, or to start a new business.\nIn general, when we think about the best place to live, to relocate to a new business, a lot of parameters should be considered when trying to make a comparison between cities, towns, or neighborhoods. Here is some reasons:\n\n- **Overall Comparison:** This is a comparison of the same factors for each city. Some of the popular factors include population, cost of living, average rent, crime rate, tax rates, and air quality.\n- **Crime Rates:** The statistics are two cities, then measures them against national statistics.\n- **Comparison of Costs of Living and Salary:** Some factors for this comparison include statistics on food, housing, utilities, transportation and more. This is a useful way to find out if your salary will measure up in the new city.\n- **Compare Schools:** This is the best school in the area. It mostly takes into consideration the test scores and the student ratios, including the teacher's experience.\n- **Neighborhood Comparison:** This is the best place to live in any given city. These sites allow you to see some interesting facts about the various communities.\n\nIn this study, we will prepare a city analysis report on the two major borough, Brooklyn and Queens in NY. So we will learn about the similarities and differences about these cities and the characteristics of the cities themselves.\nOf course, for a complete evaluation, many of the above parameters should be evaluated. While all of these analyses are useful for comparing the neighborhoods, there is nothing like visiting the actual city, seeing the neighborhoods, and speaking with residents. If it's possible, an in-person visit is highly recommended before making a big move or relocating decision.\n\n## Data\n\nWe will convert addresses into their equivalent latitude and longitude values. Also we will use the Foursquare API to explore neighborhoods, Brooklyn and Queens in New York City. You will use the explore function to get the most common venue categories in each neighborhood, and then use this feature to group the neighborhoods into clusters. You will use the k-means clustering algorithm to complete this task. Finally, you will use the Folium library to visualize the neighborhoods in New York City and their emerging clusters.\nIn order to segment the neighborhoods and explore them, we will essentially need a dataset that contains the 5 boroughs and the neighborhoods that exist in each borough as well as the latitude and longitude coordinates of each neighborhood.\nLuckily, this dataset exists for free on the web. Feel free to try to find this dataset on your own, but here is the link to the dataset: https://geo.nyu.edu/catalog/nyu_2451_34572\n\n## Clustering\n\nThe k-means clustering algorithm is an unsupervised clustering technique searches for a pre-determined number of clusters within an unlabeled multidimensional dataset. It accomplishes this using a simple conception of what the optimal clustering looks like:\n\n- The \"cluster center\" is the arithmetic mean of all the points belonging to the cluster.\n- Each point is closer to its own cluster center than to other cluster centers in the dataset.\n\nThe two assumptions above are presumably the basis of the k-means model.\n"
        },
        {
            "metadata": {},
            "cell_type": "code",
            "source": "",
            "execution_count": null,
            "outputs": []
        }
    ],
    "metadata": {
        "kernelspec": {
            "name": "python3",
            "display_name": "Python 3.6",
            "language": "python"
        },
        "language_info": {
            "name": "python",
            "version": "3.6.8",
            "mimetype": "text/x-python",
            "codemirror_mode": {
                "name": "ipython",
                "version": 3
            },
            "pygments_lexer": "ipython3",
            "nbconvert_exporter": "python",
            "file_extension": ".py"
        }
    },
    "nbformat": 4,
    "nbformat_minor": 1
}